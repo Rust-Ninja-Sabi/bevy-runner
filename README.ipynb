{
 "cells": [
  {
   "cell_type": "markdown",
   "id": "4bfa82c0",
   "metadata": {},
   "source": [
    "# bevy-runner - creating a 3D game with rust and bevy"
   ]
  },
  {
   "cell_type": "markdown",
   "id": "e33e940f",
   "metadata": {},
   "source": [
    "My second 3D game with rust(https://www.rust-lang.org) and the bevy framework(https://bevyengine.org).\n",
    "\n",
    "I am inspired by the classic endless runners like #TempleRun or #SonicDash but with cars.  \n",
    "    \n",
    "Thanks to Kenny https://www.kenney.nl for the assets."
   ]
  },
  {
   "cell_type": "markdown",
   "id": "68d0026f",
   "metadata": {},
   "source": [
    "## 1. Step _ load street and car"
   ]
  },
  {
   "cell_type": "markdown",
   "id": "ad8e627f",
   "metadata": {},
   "source": [
    "<img src=\"img/step1.png\" width=\"320\" align=\"left\"><br><br><br><br><br><br><br><br>"
   ]
  },
  {
   "cell_type": "code",
   "execution_count": null,
   "id": "d1063e48",
   "metadata": {},
   "outputs": [],
   "source": [
    "//camera\n",
    "    commands.spawn_bundle(PerspectiveCameraBundle{\n",
    "        transform: Transform::from_xyz(1.0,6.0,3.0).looking_at(Vec3::new(1.,0.,-2.), Vec3::Y),\n",
    "        ..Default::default()\n",
    "    });\n",
    "\n",
    "    // light\n",
    "    commands.spawn_bundle(PointLightBundle{\n",
    "        point_light: PointLight{\n",
    "            intensity: 1500.0,\n",
    "            shadows_enabled: true,\n",
    "            ..Default::default()\n",
    "        },\n",
    "        transform: Transform::from_xyz(1.0, 4.0, 0.0),\n",
    "        ..Default::default()\n",
    "    });\n",
    "\n",
    "    // street\n",
    "    for j in -8..2 {\n",
    "        for i in 0..3 {\n",
    "            commands.spawn_bundle((\n",
    "                Transform {\n",
    "                    translation: Vec3::new(i as f32, 0.0, j as f32),\n",
    "                    rotation: Quat::from_rotation_y(FRAC_PI_2),\n",
    "                    ..Default::default()\n",
    "                },\n",
    "                GlobalTransform::identity(),\n",
    "            ))\n",
    "                .with_children(|parent| {\n",
    "                    parent.spawn_scene(asset_server.load(\"models/road_straight.glb#Scene0\"));\n",
    "                });\n",
    "        }\n",
    "    }\n",
    "\n",
    "    //player\n",
    "    commands.spawn_bundle((\n",
    "        Transform {\n",
    "            translation: Vec3::new(1.0,0.0,0.0),\n",
    "            scale: Vec3::new(0.4, 0.4, 0.4),\n",
    "            ..Default::default()\n",
    "        },\n",
    "        GlobalTransform::identity(),\n",
    "    ))\n",
    "        .with_children(|parent| {\n",
    "            parent.spawn_scene(asset_server.load(\"models/taxi.glb#Scene0\"));\n",
    "        })\n",
    "        .insert(Player);"
   ]
  },
  {
   "cell_type": "markdown",
   "id": "b0a2f421",
   "metadata": {},
   "source": [
    "## 2. Step _ move car"
   ]
  },
  {
   "cell_type": "markdown",
   "id": "664da731",
   "metadata": {},
   "source": [
    "<img src=\"img/step2.gif\" width=\"256\" align=\"left\"><br><br><br><br><br><br><br><br>"
   ]
  },
  {
   "cell_type": "code",
   "execution_count": null,
   "id": "bd2b0a18",
   "metadata": {},
   "outputs": [],
   "source": [
    "fn move_car(\n",
    "    keyboard_input: Res<Input<KeyCode>>,\n",
    "    mut position: Query<&mut Transform,With<Player>>\n",
    "){\n",
    "    for mut transform in position.iter_mut() {\n",
    "        if keyboard_input.just_pressed(KeyCode::Left){\n",
    "            let mut x = transform.translation.x-1.0;\n",
    "            if x < 0.0 { x=0.0};\n",
    "            transform.translation = Vec3::new(x,\n",
    "                                         transform.translation.y,\n",
    "                                         transform.translation.z);\n",
    "        }\n",
    "        if keyboard_input.just_pressed(KeyCode::Right){\n",
    "            let mut x = transform.translation.x+1.0;\n",
    "            if x > 2.0 { x = 2.0};\n",
    "            transform.translation = Vec3::new(x,\n",
    "                                         transform.translation.y,\n",
    "                                         transform.translation.z);\n",
    "        }\n",
    "    }\n",
    "}"
   ]
  }
 ],
 "metadata": {
  "kernelspec": {
   "display_name": "Rust",
   "language": "rust",
   "name": "rust"
  },
  "language_info": {
   "codemirror_mode": "rust",
   "file_extension": ".rs",
   "mimetype": "text/rust",
   "name": "Rust",
   "pygment_lexer": "rust",
   "version": ""
  }
 },
 "nbformat": 4,
 "nbformat_minor": 5
}
