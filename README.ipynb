{
 "cells": [
  {
   "cell_type": "markdown",
   "id": "7140a217",
   "metadata": {},
   "source": [
    "# bevy-runner - creating a 3D game with rust and bevy"
   ]
  },
  {
   "cell_type": "markdown",
   "id": "af1f7036",
   "metadata": {},
   "source": [
    "My second 3D game with rust(https://www.rust-lang.org) and the bevy framework(https://bevyengine.org).\n",
    "\n",
    "I am inspired by the classic endless runners like #TempleRun or #SonicDash but with cars.  \n",
    "    \n",
    "Thanks to Kenny https://www.kenney.nl for the assets."
   ]
  },
  {
   "cell_type": "markdown",
   "id": "caadaa58",
   "metadata": {},
   "source": [
    "## 1. Step _ load street and car"
   ]
  },
  {
   "cell_type": "markdown",
   "id": "93af2615",
   "metadata": {},
   "source": [
    "<img src=\"img/step1.png\" width=\"320\" align=\"left\"><br><br><br><br><br><br><br><br>"
   ]
  },
  {
   "cell_type": "code",
   "execution_count": null,
   "id": "ce6bb6db",
   "metadata": {},
   "outputs": [],
   "source": [
    "//camera\n",
    "    commands.spawn_bundle(PerspectiveCameraBundle{\n",
    "        transform: Transform::from_xyz(1.0,6.0,3.0).looking_at(Vec3::new(1.,0.,-2.), Vec3::Y),\n",
    "        ..Default::default()\n",
    "    });\n",
    "\n",
    "    // light\n",
    "    commands.spawn_bundle(PointLightBundle{\n",
    "        point_light: PointLight{\n",
    "            intensity: 1500.0,\n",
    "            shadows_enabled: true,\n",
    "            ..Default::default()\n",
    "        },\n",
    "        transform: Transform::from_xyz(1.0, 4.0, 0.0),\n",
    "        ..Default::default()\n",
    "    });\n",
    "\n",
    "    // street\n",
    "    for j in -8..2 {\n",
    "        for i in 0..3 {\n",
    "            commands.spawn_bundle((\n",
    "                Transform {\n",
    "                    translation: Vec3::new(i as f32, 0.0, j as f32),\n",
    "                    rotation: Quat::from_rotation_y(FRAC_PI_2),\n",
    "                    ..Default::default()\n",
    "                },\n",
    "                GlobalTransform::identity(),\n",
    "            ))\n",
    "                .with_children(|parent| {\n",
    "                    parent.spawn_scene(asset_server.load(\"models/road_straight.glb#Scene0\"));\n",
    "                });\n",
    "        }\n",
    "    }\n",
    "\n",
    "    //player\n",
    "    commands.spawn_bundle((\n",
    "        Transform {\n",
    "            translation: Vec3::new(1.0,0.0,0.0),\n",
    "            scale: Vec3::new(0.4, 0.4, 0.4),\n",
    "            ..Default::default()\n",
    "        },\n",
    "        GlobalTransform::identity(),\n",
    "    ))\n",
    "        .with_children(|parent| {\n",
    "            parent.spawn_scene(asset_server.load(\"models/taxi.glb#Scene0\"));\n",
    "        })\n",
    "        .insert(Player);"
   ]
  }
 ],
 "metadata": {
  "kernelspec": {
   "display_name": "Rust",
   "language": "rust",
   "name": "rust"
  },
  "language_info": {
   "codemirror_mode": "rust",
   "file_extension": ".rs",
   "mimetype": "text/rust",
   "name": "Rust",
   "pygment_lexer": "rust",
   "version": ""
  }
 },
 "nbformat": 4,
 "nbformat_minor": 5
}
